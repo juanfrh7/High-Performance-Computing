{
  "nbformat": 4,
  "nbformat_minor": 0,
  "metadata": {
    "colab": {
      "name": "Assignment 4.ipynb",
      "provenance": [],
      "collapsed_sections": [
        "3jG59NlxMDJd",
        "eZxf3fh1Dt71"
      ],
      "machine_shape": "hm"
    },
    "kernelspec": {
      "name": "python3",
      "display_name": "Python 3"
    },
    "language_info": {
      "name": "python"
    },
    "accelerator": "GPU"
  },
  "cells": [
    {
      "cell_type": "markdown",
      "source": [
        "#**Assignment 4**"
      ],
      "metadata": {
        "id": "cv-6csJbL8bm"
      }
    },
    {
      "cell_type": "markdown",
      "source": [
        "##**Imports**"
      ],
      "metadata": {
        "id": "3jG59NlxMDJd"
      }
    },
    {
      "cell_type": "code",
      "source": [
        "import numpy as np\n",
        "from matplotlib import pyplot as plt\n",
        "from mpl_toolkits.mplot3d import Axes3D\n",
        "from matplotlib import cm\n",
        "\n",
        "from scipy.sparse import coo_matrix\n",
        "from scipy.sparse.linalg import spsolve\n",
        "\n",
        "import numba\n",
        "from numba import njit, prange, cuda"
      ],
      "metadata": {
        "id": "eEveIYBxHpyg"
      },
      "execution_count": null,
      "outputs": []
    },
    {
      "cell_type": "markdown",
      "source": [
        "##**CPU explicit method - Forward Euler method**"
      ],
      "metadata": {
        "id": "eZxf3fh1Dt71"
      }
    },
    {
      "cell_type": "code",
      "source": [
        "class explicit_heat_equation():\n",
        "  def __init__(self, N, iterations, length, alpha):\n",
        "    self.N = N\n",
        "    self.iterations = iterations\n",
        "    self.u = np.zeros((iterations, N, N))\n",
        "    self.length = length\n",
        "    self.alpha = alpha\n",
        "\n",
        "    self.initial = 0.0\n",
        "    self.right = 0.0\n",
        "    self.left = 0.0\n",
        "    self.top = 0.0\n",
        "    self.bottom = 0.0\n",
        "    \n",
        "    self.dh = length / (N-1)\n",
        "    self.dt = (self.dh ** 2)/(4 * alpha)\n",
        "    self.gamma = (alpha * self.dt) / (self.dh ** 2)\n",
        "\n",
        "    if self.dt < self.dh**2/4:\n",
        "      raise ValueError('Stability condition is not met')\n",
        "  \n",
        "  def set_boundary_conditions(self, initial, top, left, right, bottom):\n",
        "\n",
        "    self.initial = initial\n",
        "    self.right = right\n",
        "    self.left = left\n",
        "    self.top = top\n",
        "    self.bottom = bottom\n",
        "\n",
        "    # Set the initial condition\n",
        "    self.u.fill(initial)\n",
        "\n",
        "    # Set the boundary conditions\n",
        "    self.u[:, -1:, :] = u_bottom\n",
        "    self.u[:, :, :1] = u_left\n",
        "    self.u[:, :1, 1:] = u_top\n",
        "    self.u[:, :,-1:] = u_right\n",
        "\n",
        "  def calculate_u(self):\n",
        "    for k in range(self.iterations - 1):\n",
        "      for i in range(1, self.N - 1):\n",
        "        for j in range(1, self.N - 1):\n",
        "          self.u[k + 1, i, j] = (1 - 4 * self.gamma) * self.u[k][i][j] + self.gamma * (self.u[k][i+1][j] + self.u[k][i-1][j] + self.u[k][i][j+1] + self.u[k][i][j-1])\n",
        "          \n",
        "  def calculate_middle_point(self, value):\n",
        "    t = 0\n",
        "    for j in range(self.iterations):\n",
        "      if self.N % 2 == 0:\n",
        "        index = self.N // 2\n",
        "        average_mid_point = self.u[j][index][index] + self.u[j][index-1][index-1] + self.u[j][index-1][index] + self.u[j][index][index-1] / 4\n",
        "        if average_mid_point >=1:\n",
        "          t = j\n",
        "          break\n",
        "\n",
        "      elif self.N % 2 != 0:\n",
        "        index = self.N // 2\n",
        "        if self.u[j][index][index] >= value:\n",
        "          t = j\n",
        "          break\n",
        "\n",
        "    if t == 0:\n",
        "      raise ValueError('Middle value does not converge to value')\n",
        "\n",
        "    return t\n",
        "\n",
        "  def plot_heat_map(self, iteration):\n",
        "    plt.imshow(self.u[iteration], cmap='hot', interpolation='nearest')\n",
        "    plt.show()\n",
        "      "
      ],
      "metadata": {
        "id": "Wscjo4n-cCb-"
      },
      "execution_count": null,
      "outputs": []
    },
    {
      "cell_type": "code",
      "source": [
        "def plot_convergence(N_list):\n",
        "  iterations = np.zeros(len(N_list))\n",
        "  for i in range(len(N_list)):\n",
        "    N = N_list[i]\n",
        "    heat_problem = explicit_heat_equation(N, iter, length, alpha)\n",
        "    heat_problem.set_boundary_conditions(u_initial, u_top, u_left, u_right, u_bottom)\n",
        "    heat_problem.calculate_u()\n",
        "    t = heat_problem.calculate_middle_point(value)\n",
        "    iterations[i] = t * heat_problem.dt\n",
        "    \n",
        "  plt.plot(N_list, iterations)\n",
        "  plt.show()"
      ],
      "metadata": {
        "id": "aSRgCfDkyAZA"
      },
      "execution_count": null,
      "outputs": []
    },
    {
      "cell_type": "code",
      "source": [
        "N = 51\n",
        "iter = 2000\n",
        "length = 2\n",
        "alpha = 1\n",
        "value = 1\n",
        "\n",
        "#Initial temperature\n",
        "u_initial = 0\n",
        "\n",
        "# Boundary conditions (fixed temperature)\n",
        "u_top = 0.0\n",
        "u_left = 5.0\n",
        "u_bottom = 0.0\n",
        "u_right = 0.0"
      ],
      "metadata": {
        "id": "PrzWT1LJjAqh"
      },
      "execution_count": null,
      "outputs": []
    },
    {
      "cell_type": "code",
      "source": [
        "heat_problem = explicit_heat_equation(N, iter, length, alpha)\n",
        "heat_problem.set_boundary_conditions(u_initial, u_top, u_left, u_right, u_bottom)\n",
        "heat_problem.calculate_u()\n",
        "t = heat_problem.calculate_middle_point(value)"
      ],
      "metadata": {
        "id": "bluvV6ZqJZXz"
      },
      "execution_count": null,
      "outputs": []
    },
    {
      "cell_type": "code",
      "source": [
        "t"
      ],
      "metadata": {
        "colab": {
          "base_uri": "https://localhost:8080/"
        },
        "id": "F9gIxwhdkksn",
        "outputId": "1a39b7e4-001e-4027-899d-5a4aa18fbcb9"
      },
      "execution_count": null,
      "outputs": [
        {
          "output_type": "execute_result",
          "data": {
            "text/plain": [
              "1059"
            ]
          },
          "metadata": {},
          "execution_count": 12
        }
      ]
    },
    {
      "cell_type": "code",
      "source": [
        "n = [i for i in range(51, 102, 10)]\n",
        "plot_convergence(n)"
      ],
      "metadata": {
        "id": "q8riutMmdIqA",
        "colab": {
          "base_uri": "https://localhost:8080/",
          "height": 328
        },
        "outputId": "da3671a2-4836-480a-cdc1-d754e525133f"
      },
      "execution_count": null,
      "outputs": [
        {
          "output_type": "error",
          "ename": "ValueError",
          "evalue": "ignored",
          "traceback": [
            "\u001b[0;31m---------------------------------------------------------------------------\u001b[0m",
            "\u001b[0;31mValueError\u001b[0m                                Traceback (most recent call last)",
            "\u001b[0;32m<ipython-input-256-97113724f129>\u001b[0m in \u001b[0;36m<module>\u001b[0;34m()\u001b[0m\n\u001b[1;32m      1\u001b[0m \u001b[0mn\u001b[0m \u001b[0;34m=\u001b[0m \u001b[0;34m[\u001b[0m\u001b[0mi\u001b[0m \u001b[0;32mfor\u001b[0m \u001b[0mi\u001b[0m \u001b[0;32min\u001b[0m \u001b[0mrange\u001b[0m\u001b[0;34m(\u001b[0m\u001b[0;36m51\u001b[0m\u001b[0;34m,\u001b[0m \u001b[0;36m101\u001b[0m\u001b[0;34m,\u001b[0m \u001b[0;36m10\u001b[0m\u001b[0;34m)\u001b[0m\u001b[0;34m]\u001b[0m\u001b[0;34m\u001b[0m\u001b[0;34m\u001b[0m\u001b[0m\n\u001b[0;32m----> 2\u001b[0;31m \u001b[0mplot_convergence\u001b[0m\u001b[0;34m(\u001b[0m\u001b[0mn\u001b[0m\u001b[0;34m)\u001b[0m\u001b[0;34m\u001b[0m\u001b[0;34m\u001b[0m\u001b[0m\n\u001b[0m",
            "\u001b[0;32m<ipython-input-247-b3f7865bbf0d>\u001b[0m in \u001b[0;36mplot_convergence\u001b[0;34m(N_list)\u001b[0m\n\u001b[1;32m      6\u001b[0m     \u001b[0mheat_problem\u001b[0m\u001b[0;34m.\u001b[0m\u001b[0mset_boundary_conditions\u001b[0m\u001b[0;34m(\u001b[0m\u001b[0mu_initial\u001b[0m\u001b[0;34m,\u001b[0m \u001b[0mu_top\u001b[0m\u001b[0;34m,\u001b[0m \u001b[0mu_left\u001b[0m\u001b[0;34m,\u001b[0m \u001b[0mu_right\u001b[0m\u001b[0;34m,\u001b[0m \u001b[0mu_bottom\u001b[0m\u001b[0;34m)\u001b[0m\u001b[0;34m\u001b[0m\u001b[0;34m\u001b[0m\u001b[0m\n\u001b[1;32m      7\u001b[0m     \u001b[0mheat_problem\u001b[0m\u001b[0;34m.\u001b[0m\u001b[0mcalculate_u\u001b[0m\u001b[0;34m(\u001b[0m\u001b[0;34m)\u001b[0m\u001b[0;34m\u001b[0m\u001b[0;34m\u001b[0m\u001b[0m\n\u001b[0;32m----> 8\u001b[0;31m     \u001b[0mt\u001b[0m \u001b[0;34m=\u001b[0m \u001b[0mheat_problem\u001b[0m\u001b[0;34m.\u001b[0m\u001b[0mcalculate_middle_point\u001b[0m\u001b[0;34m(\u001b[0m\u001b[0mvalue\u001b[0m\u001b[0;34m)\u001b[0m\u001b[0;34m\u001b[0m\u001b[0;34m\u001b[0m\u001b[0m\n\u001b[0m\u001b[1;32m      9\u001b[0m     \u001b[0miterations\u001b[0m\u001b[0;34m[\u001b[0m\u001b[0mi\u001b[0m\u001b[0;34m]\u001b[0m \u001b[0;34m=\u001b[0m \u001b[0mt\u001b[0m \u001b[0;34m*\u001b[0m \u001b[0mheat_problem\u001b[0m\u001b[0;34m.\u001b[0m\u001b[0mdt\u001b[0m\u001b[0;34m\u001b[0m\u001b[0;34m\u001b[0m\u001b[0m\n\u001b[1;32m     10\u001b[0m \u001b[0;34m\u001b[0m\u001b[0m\n",
            "\u001b[0;32m<ipython-input-254-61b2549b6d22>\u001b[0m in \u001b[0;36mcalculate_middle_point\u001b[0;34m(self, value)\u001b[0m\n\u001b[1;32m     47\u001b[0m \u001b[0;34m\u001b[0m\u001b[0m\n\u001b[1;32m     48\u001b[0m     \u001b[0;32mif\u001b[0m \u001b[0mt\u001b[0m \u001b[0;34m==\u001b[0m \u001b[0;36m0\u001b[0m\u001b[0;34m:\u001b[0m\u001b[0;34m\u001b[0m\u001b[0;34m\u001b[0m\u001b[0m\n\u001b[0;32m---> 49\u001b[0;31m       \u001b[0;32mraise\u001b[0m \u001b[0mValueError\u001b[0m\u001b[0;34m(\u001b[0m\u001b[0;34m'Middle value does not converge to value'\u001b[0m\u001b[0;34m)\u001b[0m\u001b[0;34m\u001b[0m\u001b[0;34m\u001b[0m\u001b[0m\n\u001b[0m\u001b[1;32m     50\u001b[0m \u001b[0;34m\u001b[0m\u001b[0m\n\u001b[1;32m     51\u001b[0m     \u001b[0;32mreturn\u001b[0m \u001b[0mt\u001b[0m\u001b[0;34m\u001b[0m\u001b[0;34m\u001b[0m\u001b[0m\n",
            "\u001b[0;31mValueError\u001b[0m: Middle value does not converge to value"
          ]
        }
      ]
    },
    {
      "cell_type": "markdown",
      "source": [
        "##**CPU implicit method - Backward Euler method**"
      ],
      "metadata": {
        "id": "3jKVPsQDEF9K"
      }
    },
    {
      "cell_type": "code",
      "source": [
        "class implicit_heat_equation():\n",
        "  def __init__(self, N, iterations, length, alpha):\n",
        "    self.N = N\n",
        "    self.iterations = iterations\n",
        "    self.u = np.zeros((iterations, N**2))\n",
        "    self.length = length\n",
        "    self.alpha = alpha\n",
        "\n",
        "    self.initial = 0.0\n",
        "    self.right = 0.0\n",
        "    self.left = 0.0\n",
        "    self.top = 0.0\n",
        "    self.bottom = 0.0\n",
        "    \n",
        "    self.A = np.zeros((N**2, N**2))\n",
        "    self.dh = length / (N-1)\n",
        "    self.dt = (self.dh ** 2)/(4 * alpha)\n",
        "    self.gamma = (alpha * self.dt) / (self.dh ** 2)\n",
        "\n",
        "    if self.dt < self.dh**2 / 4:\n",
        "      raise ValueError('Stability condition is not met')\n",
        "  \n",
        "  def set_boundary_conditions(self, initial, top, left, right, bottom):\n",
        "\n",
        "    self.right = right\n",
        "    self.left = left\n",
        "    self.top = top\n",
        "    self.bottom = bottom\n",
        "\n",
        "    # Set the boundary conditions\n",
        "    self.u[:,::self.N]= left\n",
        "    self.u[:, self.N-1::self.N] = right\n",
        "    self.u[:, -self.N:] = bottom\n",
        "    self.u[:,:self.N] = top\n",
        "\n",
        "  def calc_A_matrix(self):\n",
        "\n",
        "    for i in range(self.N**2):\n",
        "      #update main diagonal\n",
        "      self.A[i,i] = 1 + 4 * self.gamma\n",
        "      #update\n",
        "      if i < self.N**2 - 1:\n",
        "        self.A[i,i+1] = - self.gamma\n",
        "      #update\n",
        "      if i >= self.N:\n",
        "        self.A[i, i-self.N] = - self.gamma\n",
        "      #update\n",
        "      if i <  self.N**2 - self.N:\n",
        "        self.A[i, i+self.N] = - self.gamma\n",
        "      #update lower diagonal\n",
        "      if i >= 1:\n",
        "        self.A[i,i-1] = - self.gamma\n",
        "\n",
        "  def iterate_u(self):\n",
        "\n",
        "    for k in range(self.iterations-1):\n",
        "      self.u[k+1] = spsolve(self.A, self.u[k])\n",
        "\n",
        "      # Set the boundary conditions\n",
        "      self.u[k+1][::self.N]= self.left\n",
        "      self.u[k+1][self.N-1::self.N] = self.right\n",
        "      self.u[k+1][-self.N:] = self.bottom\n",
        "      self.u[k+1][:self.N] = self.top\n",
        "\n",
        "      self.u[k] = self.u[k+1]\n",
        "\n",
        "  def calculate_middle_point(self, value):\n",
        "    t = 0\n",
        "    for j in range(self.iterations):\n",
        "      index = int(self.N **2 / 2)\n",
        "      if self.u[j][index] >= value:\n",
        "        t = j\n",
        "        break\n",
        "\n",
        "    if t == 0:\n",
        "      raise ValueError('Middle value does not converge to value')\n",
        "\n",
        "    return t\n",
        "\n",
        "  def plot_heat_map(self, iteration):\n",
        "    plt.imshow(self.u[iteration].reshape((self.N, self.N)), cmap='hot', interpolation='nearest')\n",
        "    plt.show()"
      ],
      "metadata": {
        "id": "9xrv2tiqLHs8"
      },
      "execution_count": null,
      "outputs": []
    },
    {
      "cell_type": "code",
      "source": [
        "N = 51\n",
        "iter = 1100\n",
        "length = 2\n",
        "alpha = 1\n",
        "value = 1\n",
        "\n",
        "#Initial temperature\n",
        "u_initial = 0\n",
        "\n",
        "# Boundary conditions (fixed temperature)\n",
        "u_top = 0.0\n",
        "u_left = 5.0\n",
        "u_bottom = 0.0\n",
        "u_right = 0.0"
      ],
      "metadata": {
        "id": "nSqAhbgg69yf"
      },
      "execution_count": null,
      "outputs": []
    },
    {
      "cell_type": "code",
      "source": [
        "heat_problem2 = implicit_heat_equation(N, iter, length, alpha)\n",
        "heat_problem2.set_boundary_conditions(u_initial, u_top, u_left, u_right, u_bottom)\n",
        "heat_problem2.calc_A_matrix()\n",
        "heat_problem2.u.shape\n"
      ],
      "metadata": {
        "id": "KjJNtZqJ7BUi",
        "colab": {
          "base_uri": "https://localhost:8080/"
        },
        "outputId": "a3523db4-e2f8-4227-b632-52741c64c093"
      },
      "execution_count": null,
      "outputs": [
        {
          "output_type": "execute_result",
          "data": {
            "text/plain": [
              "(1100, 2601)"
            ]
          },
          "metadata": {},
          "execution_count": 73
        }
      ]
    },
    {
      "cell_type": "code",
      "source": [
        "heat_problem2.iterate_u()"
      ],
      "metadata": {
        "colab": {
          "base_uri": "https://localhost:8080/"
        },
        "id": "ABBEiQ0OM4Iz",
        "outputId": "5ef927c4-ca7f-429e-cc20-67244dd2980a"
      },
      "execution_count": null,
      "outputs": [
        {
          "output_type": "stream",
          "name": "stderr",
          "text": [
            "/usr/local/lib/python3.7/dist-packages/scipy/sparse/linalg/dsolve/linsolve.py:138: SparseEfficiencyWarning: spsolve requires A be CSC or CSR matrix format\n",
            "  SparseEfficiencyWarning)\n"
          ]
        }
      ]
    },
    {
      "cell_type": "code",
      "source": [
        "heat_problem2.u.shape"
      ],
      "metadata": {
        "colab": {
          "base_uri": "https://localhost:8080/"
        },
        "id": "_HSw_pd4VQu4",
        "outputId": "c7464f6a-d2a9-4c9a-f02d-19feef53c370"
      },
      "execution_count": null,
      "outputs": [
        {
          "output_type": "execute_result",
          "data": {
            "text/plain": [
              "(1100, 2601)"
            ]
          },
          "metadata": {},
          "execution_count": 75
        }
      ]
    },
    {
      "cell_type": "code",
      "source": [
        "i = heat_problem2.calculate_middle_point(value)\n",
        "i * heat_problem2.dt"
      ],
      "metadata": {
        "colab": {
          "base_uri": "https://localhost:8080/"
        },
        "id": "eHwUPZn2Uz3Z",
        "outputId": "19b8bdbd-c416-4b2d-9284-a5740b40acdf"
      },
      "execution_count": null,
      "outputs": [
        {
          "output_type": "execute_result",
          "data": {
            "text/plain": [
              "0.4348"
            ]
          },
          "metadata": {},
          "execution_count": 76
        }
      ]
    },
    {
      "cell_type": "markdown",
      "source": [
        "## **GPU explicit method**"
      ],
      "metadata": {
        "id": "0vRF29hCMQtK"
      }
    },
    {
      "cell_type": "code",
      "source": [
        "@cuda.jit()\n",
        "def kernel(u, gamma, N, iterations):\n",
        "  i = cuda.grid(1)\n",
        "  print(i)\n",
        "  if i < N-1:\n",
        "    # load the data into the shared memory\n",
        "    local_u = cuda.const.array_like(u)\n",
        "    local_gamma = float(gamma)\n",
        "\n",
        "    cuda.syncthreads()\n",
        "    for k in range(iterations - 1):\n",
        "      for j in range(1, N-1):\n",
        "        local_u[k + 1, i, j] = (1 - 4 * local_gamma) * local_u[k][i][j] + local_gamma * (local_u[k][i+1][j] + local_u[k][i-1][j] + local_u[k][i][j+1] + local_u[k][i][j-1])\n",
        "        #local_u[:, -1:, :] = 0.0\n",
        "        #local_u[:, :, :1] = 0.0\n",
        "        #local_u[:, :1, 1:] = 5.0\n",
        "        #local_u[:, :,-1:] = 0.0\n",
        "\n",
        "      cuda.syncthreads()"
      ],
      "metadata": {
        "id": "ng1Bt6n_Mixa"
      },
      "execution_count": null,
      "outputs": []
    },
    {
      "cell_type": "code",
      "source": [
        "N = 5\n",
        "iter = 10\n",
        "length = 2\n",
        "alpha = 1\n",
        "value = 1\n",
        "\n",
        "#Initial temperature\n",
        "u_initial = 0\n",
        "\n",
        "# Boundary conditions (fixed temperature)\n",
        "u_top = 0.0\n",
        "u_left = 5.0\n",
        "u_bottom = 0.0\n",
        "u_right = 0.0\n",
        "\n",
        "heat_problem = explicit_heat_equation(N, iter, length, alpha)\n",
        "heat_problem.set_boundary_conditions(u_initial, u_top, u_left, u_right, u_bottom)\n",
        "u = heat_problem.u\n",
        "gamma=heat_problem.gamma"
      ],
      "metadata": {
        "id": "kGn_qCCHPoKP"
      },
      "execution_count": null,
      "outputs": []
    },
    {
      "cell_type": "code",
      "source": [
        "TPB = 16\n",
        "BPG = (N+TPB-1)//TPB\n",
        "#send 1D data to device\n",
        "dev_u = cuda.to_device(u)"
      ],
      "metadata": {
        "id": "XaJkLQ09PxxI"
      },
      "execution_count": null,
      "outputs": []
    },
    {
      "cell_type": "code",
      "source": [
        "kernel[(BPG,1), (TPB,1)](dev_u, gamma, N, iter)"
      ],
      "metadata": {
        "id": "i4r8IqjGUuoQ"
      },
      "execution_count": null,
      "outputs": []
    },
    {
      "cell_type": "code",
      "source": [
        "ary = np.empty(shape = u.shape,)\n",
        "dev_u.copy_to_host(ary)  #call result to the device\n",
        "dev_u = ary"
      ],
      "metadata": {
        "id": "g9MpTYv-Ukk1"
      },
      "execution_count": null,
      "outputs": []
    },
    {
      "cell_type": "code",
      "source": [
        "dev_u"
      ],
      "metadata": {
        "colab": {
          "base_uri": "https://localhost:8080/"
        },
        "id": "qCvvwQUKV_NF",
        "outputId": "5fa4d145-9834-41d8-de22-8e0d819e48f1"
      },
      "execution_count": null,
      "outputs": [
        {
          "output_type": "execute_result",
          "data": {
            "text/plain": [
              "array([[[5.        , 0.        , 0.        , 0.        , 0.        ],\n",
              "        [5.        , 0.        , 0.        , 0.        , 0.        ],\n",
              "        [5.        , 0.        , 0.        , 0.        , 0.        ],\n",
              "        [5.        , 0.        , 0.        , 0.        , 0.        ],\n",
              "        [5.        , 0.        , 0.        , 0.        , 0.        ]],\n",
              "\n",
              "       [[5.        , 1.25      , 0.        , 0.        , 0.        ],\n",
              "        [5.        , 1.25      , 0.        , 0.        , 0.        ],\n",
              "        [5.        , 1.25      , 0.        , 0.        , 0.        ],\n",
              "        [5.        , 1.25      , 0.        , 0.        , 0.        ],\n",
              "        [5.        , 0.        , 0.        , 0.        , 0.        ]],\n",
              "\n",
              "       [[5.        , 1.5625    , 0.3125    , 0.        , 0.        ],\n",
              "        [5.        , 1.875     , 0.3125    , 0.        , 0.        ],\n",
              "        [5.        , 1.875     , 0.3125    , 0.        , 0.        ],\n",
              "        [5.        , 1.5625    , 0.3125    , 0.        , 0.        ],\n",
              "        [5.        , 0.        , 0.        , 0.        , 0.        ]],\n",
              "\n",
              "       [[5.        , 1.796875  , 0.46875   , 0.078125  , 0.        ],\n",
              "        [5.        , 2.1875    , 0.625     , 0.078125  , 0.        ],\n",
              "        [5.        , 2.1875    , 0.625     , 0.078125  , 0.        ],\n",
              "        [5.        , 1.796875  , 0.46875   , 0.078125  , 0.        ],\n",
              "        [5.        , 0.        , 0.        , 0.        , 0.        ]],\n",
              "\n",
              "       [[5.        , 1.9140625 , 0.625     , 0.13671875, 0.        ],\n",
              "        [5.        , 2.40234375, 0.83984375, 0.1953125 , 0.        ],\n",
              "        [5.        , 2.40234375, 0.83984375, 0.1953125 , 0.        ],\n",
              "        [5.        , 1.9140625 , 0.625     , 0.13671875, 0.        ],\n",
              "        [5.        , 0.        , 0.        , 0.        , 0.        ]],\n",
              "\n",
              "       [[5.        , 2.00683594, 0.72265625, 0.20507812, 0.        ],\n",
              "        [5.        , 2.5390625 , 1.015625  , 0.29296875, 0.        ],\n",
              "        [5.        , 2.5390625 , 1.015625  , 0.29296875, 0.        ],\n",
              "        [5.        , 2.00683594, 0.72265625, 0.20507812, 0.        ],\n",
              "        [5.        , 0.        , 0.        , 0.        , 0.        ]],\n",
              "\n",
              "       [[5.        , 2.06542969, 0.80688477, 0.25390625, 0.        ],\n",
              "        [5.        , 2.64038086, 1.14257812, 0.37841797, 0.        ],\n",
              "        [5.        , 2.64038086, 1.14257812, 0.37841797, 0.        ],\n",
              "        [5.        , 2.06542969, 0.80688477, 0.25390625, 0.        ],\n",
              "        [5.        , 0.        , 0.        , 0.        , 0.        ]],\n",
              "\n",
              "       [[5.        , 2.11181641, 0.86547852, 0.29632568, 0.        ],\n",
              "        [5.        , 2.71209717, 1.24206543, 0.44372559, 0.        ],\n",
              "        [5.        , 2.71209717, 1.24206543, 0.44372559, 0.        ],\n",
              "        [5.        , 2.11181641, 0.86547852, 0.29632568, 0.        ],\n",
              "        [5.        , 0.        , 0.        , 0.        , 0.        ]],\n",
              "\n",
              "       [[5.        , 2.14439392, 0.91255188, 0.32730103, 0.        ],\n",
              "        [5.        , 2.76649475, 1.31584167, 0.49552917, 0.        ],\n",
              "        [5.        , 2.76649475, 1.31584167, 0.49552917, 0.        ],\n",
              "        [5.        , 2.14439392, 0.91255188, 0.32730103, 0.        ],\n",
              "        [5.        , 0.        , 0.        , 0.        , 0.        ]],\n",
              "\n",
              "       [[5.        , 2.16976166, 0.94688416, 0.35202026, 0.        ],\n",
              "        [5.        , 2.80668259, 1.37260437, 0.53466797, 0.        ],\n",
              "        [5.        , 2.80668259, 1.37260437, 0.53466797, 0.        ],\n",
              "        [5.        , 2.16976166, 0.94688416, 0.35202026, 0.        ],\n",
              "        [5.        , 0.        , 0.        , 0.        , 0.        ]]])"
            ]
          },
          "metadata": {},
          "execution_count": 119
        }
      ]
    },
    {
      "cell_type": "code",
      "source": [
        ""
      ],
      "metadata": {
        "id": "ujR9Q5G2WAf1"
      },
      "execution_count": null,
      "outputs": []
    }
  ]
}