{
  "nbformat": 4,
  "nbformat_minor": 0,
  "metadata": {
    "colab": {
      "name": "HPC Assignment 3",
      "provenance": [],
      "collapsed_sections": [
        "53NbLjQnQRN_",
        "MNNJe1oPCzxL",
        "J3O4TA9JULpX",
        "MWGoMKMIC9Sl",
        "lY_C4dPXKRw4",
        "o01vYMggFpMZ"
      ],
      "machine_shape": "hm"
    },
    "kernelspec": {
      "name": "python3",
      "display_name": "Python 3"
    },
    "language_info": {
      "name": "python"
    },
    "accelerator": "GPU"
  },
  "cells": [
    {
      "cell_type": "markdown",
      "metadata": {
        "id": "8nvUh-PUQW5r"
      },
      "source": [
        "#**HPC Assignment 3**"
      ]
    },
    {
      "cell_type": "markdown",
      "metadata": {
        "id": "N1ftn40Fh6ss"
      },
      "source": [
        " <b>Candidate Number: VCYQ6\n",
        "\n",
        "Student Number: 18018226 <b>"
      ]
    },
    {
      "cell_type": "markdown",
      "metadata": {
        "id": "53NbLjQnQRN_"
      },
      "source": [
        "##**Imports**"
      ]
    },
    {
      "cell_type": "code",
      "metadata": {
        "id": "xre1daHAQD0C"
      },
      "source": [
        "import numpy as np\n",
        "import scipy \n",
        "\n",
        "from scipy import io\n",
        "from scipy.sparse import csr_matrix, coo_matrix\n",
        "from scipy.sparse.linalg import LinearOperator\n",
        "\n",
        "import numba\n",
        "from numba import cuda, njit, prange, float32, int32, float64, int64\n",
        "\n",
        "import timeit\n",
        "\n",
        "import matplotlib.pyplot as plt"
      ],
      "execution_count": null,
      "outputs": []
    },
    {
      "cell_type": "markdown",
      "metadata": {
        "id": "MNNJe1oPCzxL"
      },
      "source": [
        "##**Literature review**"
      ]
    },
    {
      "cell_type": "markdown",
      "metadata": {
        "id": "VnKrtEtIDTT2"
      },
      "source": [
        "Optimizing sparse matrix vector product (SpMV) is important in many scientific fields as sparse matrices are encountered in linear systems, eigensystems and partial differential equations. However, due to the large number of sparse operations, the way data is accessed is not always local, meaning that the processor is not accessing the same set of memory locations repetitively over a specific period of time. Moreover, the intrinsic parallelism of loops in GPU's is not totally exploited. Hence, picking an appropriate storing format that reduces these problems is key to perform SpMV. In the following sections, we evaluate and implement the CSR and Ellpack-R format and we present the sliced ELLR-T for SpMV. "
      ]
    },
    {
      "cell_type": "markdown",
      "metadata": {
        "id": "0qQNoWGxc5Qg"
      },
      "source": [
        "**What is CSR format?**\n",
        "\n",
        "In CSR (Compressed Sparse Row) format sparse matrices are stored using three different arrays: one with all the non-zeros entries; one with the column indices; and another one with the column indices of the first non-zero entry in a row. The following example shows how sparse matrices are stored in CSR format. \n",
        "\n",
        "$\\begin{equation*}\n",
        "A = \n",
        "\\begin{pmatrix}\n",
        "1 & 0 & 3 \\\\\n",
        "4 & 0 & 0 \\\\\n",
        "0 & 0 & 9\n",
        "\\end{pmatrix}\n",
        "\\end{equation*}$\n",
        "\n",
        "In CSR format:\n",
        "\n",
        "\n",
        "${data} = (1,3,4,9)$\n",
        "\n",
        "${indices} = (0,2,0,2)$\n",
        "\n",
        "${ptr} = (0,2,3,4)$"
      ]
    },
    {
      "cell_type": "markdown",
      "metadata": {
        "id": "fwG-SryaemIO"
      },
      "source": [
        "**What is Ellpack R format?**\n",
        "\n",
        "The Ellpack R (ELL-R) format stores sparse matrices using dense matrices and an array rl that stores the length of the non-zero values in each row. For a sparse matrix with M rows and N columns, the non-zero values are compressed into a dense M x J array, where rows with lesser than J non-zero values are zero padded. The corresponding column indices are stored the same way in a dense indices array. The following figure is an example of how sparse matrices are stored in ELL-R format:\n",
        "\n",
        "$\\begin{equation*}\n",
        "A = \n",
        "\\begin{pmatrix}\n",
        "1 & 0 & 3 \\\\\n",
        "4 & 0 & 0 \\\\\n",
        "0 & 0 & 9\n",
        "\\end{pmatrix}\n",
        "\\end{equation*}$\n",
        "\n",
        "In ELL-R format:\n",
        "\n",
        "\n",
        "$\\begin{equation*}\n",
        "{data} = \n",
        "\\begin{pmatrix}\n",
        "1 & 3 \\\\\n",
        "4 & 0 \\\\\n",
        "9 & 0 \n",
        "\\end{pmatrix}\n",
        "\\end{equation*}$\n",
        "\n",
        "$\\begin{equation*}\n",
        "{indices} = \n",
        "\\begin{pmatrix}\n",
        "0 & 2 \\\\\n",
        "0 & 0 \\\\\n",
        "2 & 0 \n",
        "\\end{pmatrix}\n",
        "\\end{equation*}$\n",
        "\n",
        "\n",
        "${rl} = (2,1,1)$"
      ]
    },
    {
      "cell_type": "markdown",
      "metadata": {
        "id": "B1oC797hkhux"
      },
      "source": [
        "**Drawbacks from CSR format and how Ellpack-R solves it**\n",
        "\n",
        "SpMV based on CSR has presents many challenges to the optimization of its performance on GPU’s. For instance, the way memory is accessed in the GPU is very important to improve the performance of our matrix vector multiplication. When we use CSR format, the access locality of the vector to be multiplied is not maintained due to indirect addressing [1]. Moreover, GPU parallelism is not fully exploited due to the variability and size of the number of iterations of the inner loop. \n",
        "\n",
        "The ELLPACK R format can improve the performance of SpMV and overcome the problems raised by the CSR format. For instance, column-major ordering ensures coalesced global memory access. This is because consecutive threads can access consecutive memory addresess. Moreover, all the threads in each block can finish its calculation without synchronization with other blocks, hence reducing sinchronisation time. [1]\n",
        "\n",
        "For better performance on a GPU in the ELL-R format, the coalescense conditions need to be achieved, hence the number of rows need to be a divisor of the block size. In order to do this the rows are padded with zero elements. If we have a matrix with where the number of non-zeros per row varies significantly, then this will result in storing needless elements. Therefore, if we consider memory optimization, the CSR format is more efficient because we dont need zero-padding. [2]"
      ]
    },
    {
      "cell_type": "markdown",
      "metadata": {
        "id": "Cv-hbw-AfOQT"
      },
      "source": [
        "**What id Sliced ELLR-T?**\n",
        "\n",
        "The Sliced ELLR-T is a format that combines the ELLR-T and Sliced ELL formats. Similarly to the Sliced ELL-R, the sparse matrix is first divided into S submatrices or slices. This way, the number of extra zeros that we pad will be determined by the row with the biggest number of non-zero elements in that slice, rather than in the whole matrix. Moreover, the slices are stored in the ELL-R format. Therefore, for each slice, padding with non-zero entries occurs in order to obtain rows that are multiple of 16 [2]. Hence, the coalescense conditions are met and global memory occurs in slices.\n",
        "\n",
        "The following figure displays how Sliced ELLR-T works for a sparse matrix with S = 4."
      ]
    },
    {
      "cell_type": "markdown",
      "metadata": {
        "id": "sOBgUZqm6JnW"
      },
      "source": [
        "![Captura de pantalla 2021-11-27 a las 17.45.09.png](data:image/png;base64,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)\n",
        "\n",
        "Figure 1: Sliced ELLR format [2]"
      ]
    },
    {
      "cell_type": "markdown",
      "metadata": {
        "id": "J3O4TA9JULpX"
      },
      "source": [
        "##**Discretise Poisson function**"
      ]
    },
    {
      "cell_type": "markdown",
      "metadata": {
        "id": "gOI-t0QjHidv"
      },
      "source": [
        "We first define the function that generates the sparse matrix A. This function has been taken from the Techniques of High-Performance Computing Lecture notes. "
      ]
    },
    {
      "cell_type": "code",
      "metadata": {
        "id": "pmCMMJOuUYyc"
      },
      "source": [
        "def discretise_poisson(N):\n",
        "    \"\"\"Generate the matrix and rhs associated with the discrete Poisson operator.\"\"\"\n",
        "    \n",
        "    nelements = 5 * N**2 - 16 * N + 16\n",
        "    \n",
        "    row_ind = np.empty(nelements, dtype=np.float64)\n",
        "    col_ind = np.empty(nelements, dtype=np.float64)\n",
        "    data = np.empty(nelements, dtype=np.float64)\n",
        "    \n",
        "    f = np.empty(N * N, dtype=np.float64)\n",
        "    \n",
        "    count = 0\n",
        "    for j in range(N):\n",
        "        for i in range(N):\n",
        "            if i == 0 or i == N - 1 or j == 0 or j == N - 1:\n",
        "                row_ind[count] = col_ind[count] = j * N + i\n",
        "                data[count] =  1\n",
        "                f[j * N + i] = 0\n",
        "                count += 1\n",
        "                \n",
        "            else:\n",
        "                row_ind[count : count + 5] = j * N + i\n",
        "                col_ind[count] = j * N + i\n",
        "                col_ind[count + 1] = j * N + i + 1\n",
        "                col_ind[count + 2] = j * N + i - 1\n",
        "                col_ind[count + 3] = (j + 1) * N + i\n",
        "                col_ind[count + 4] = (j - 1) * N + i\n",
        "                                \n",
        "                data[count] = 4 * (N - 1)**2\n",
        "                data[count + 1 : count + 5] = - (N - 1)**2\n",
        "                f[j * N + i] = 1\n",
        "                \n",
        "                count += 5\n",
        "                                                \n",
        "    return coo_matrix((data, (row_ind, col_ind)), shape=(N**2, N**2)).tocsr(), f"
      ],
      "execution_count": null,
      "outputs": []
    },
    {
      "cell_type": "markdown",
      "metadata": {
        "id": "rfuloJFfJ0Wq"
      },
      "source": [
        "We also define the relative error function. We will use this function to compare the results for the different formats employed in SpMV. "
      ]
    },
    {
      "cell_type": "code",
      "metadata": {
        "id": "vKq6NJDYJl_J"
      },
      "source": [
        "def e_rel(sol, exact):\n",
        "  \"\"\"Return the relative error between the exact and obtained solution\"\"\"\n",
        "  N = sol.shape[0]\n",
        "  e = np.zeros(shape = N)\n",
        "  for i in range(N):\n",
        "    e[i] = abs(sol[i] - exact[i])/abs(exact[i])\n",
        "\n",
        "  return e"
      ],
      "execution_count": null,
      "outputs": []
    },
    {
      "cell_type": "markdown",
      "metadata": {
        "id": "MWGoMKMIC9Sl"
      },
      "source": [
        "##**CPU implementation**"
      ]
    },
    {
      "cell_type": "markdown",
      "metadata": {
        "id": "LrYIqePnH_Tj"
      },
      "source": [
        "We now define a EllpackMatrix class derived from scipy.sparse.linalg.LinearOperator. Its constructor takes a Scipy sparse matrix in CSR format, converts it to Ellpack-R and provides three routines for matrix-vector product. The first routine performs SpMV in the Ellpack-R format; the second one in the njitted Ellpack-R format; and the third one the in the njitted CSR format. At the end of this section we will evaluate the performance of the three of them. "
      ]
    },
    {
      "cell_type": "code",
      "metadata": {
        "id": "hkrSnDRuCu27"
      },
      "source": [
        "class EllpackMatrix(LinearOperator):\n",
        "    def __init__(self, csr_mat):\n",
        "        #get the data from the csr matrix \n",
        "        self.data_csr = csr_mat.data\n",
        "        self.indices_csr = csr_mat.indices\n",
        "        self.pointer_csr = csr_mat.indptr\n",
        "\n",
        "        M = len(self.pointer_csr)-1   #total number of rows \n",
        "        self.shape = (M, M)   #shape\n",
        "        self.dtype = None  #type\n",
        "\n",
        "        #array to store the actual length of each row\n",
        "        self.rl = np.zeros(shape = M, dtype = np.int64) \n",
        "        for i in range(1, len(self.pointer_csr)):\n",
        "            self.rl[i-1] = int(self.pointer_csr[i] - self.pointer_csr[i-1])\n",
        "            \n",
        "        N = max(self.rl)  #total number of columns\n",
        "\n",
        "        #dense array with column indices\n",
        "        self.indices_ell = np.zeros((M, N), dtype = np.int64)\n",
        "\n",
        "        #dense array for non-zero values\n",
        "        self.data_ell = np.zeros((M, N), dtype = np.float64)\n",
        "        \n",
        "        #append the data and indices to dense arrays\n",
        "        count = 0\n",
        "        for row in range(M):\n",
        "            for ele in range(self.rl[row]):\n",
        "                self.data_ell[row][ele] = int(self.data_csr[count])\n",
        "                self.indices_ell[row][ele] = self.indices_csr[count]\n",
        "                count += 1\n",
        "\n",
        "    def _matvec(self, v):\n",
        "      \"\"\"Evaluates the matrix-vector product with a Ellpack R matrix\"\"\"\n",
        "\n",
        "      #array that stores the result values\n",
        "      result = np.zeros(shape = v.shape, dtype = np.float64)\n",
        "\n",
        "      for row in range(len(self.data_ell)):\n",
        "          tmp = 0\n",
        "          for ele in range(self.rl[row]):\n",
        "              tmp += int(self.data_ell[row][ele]) * \n",
        "              v[int(self.indices_ell[row][ele])]\n",
        "          result[row] = tmp\n",
        "\n",
        "      return result\n",
        "  \n",
        "    @staticmethod\n",
        "    @njit(parallel = True)\n",
        "    def njit_csr_matvec(data, indices, pointer, v):\n",
        "      \"\"\"Evaluates the matrix-vector product with a CSR matrix\"\"\"\n",
        "\n",
        "      #array that stores the result values\n",
        "      result = np.zeros(shape = v.shape[0], dtype = np.float64)   \n",
        "      \n",
        "      #perform calculations\n",
        "      for row_index in prange(v.shape[0]):\n",
        "          col_start = pointer[row_index]\n",
        "          col_end = pointer[row_index + 1]\n",
        "          for col_index in range(col_start, col_end):\n",
        "              result[row_index] += data[col_index] * v[indices[col_index]]\n",
        "\n",
        "      return result\n",
        "\n",
        "    @staticmethod\n",
        "    @njit(parallel = True)\n",
        "    def njit_ellpackr_matvec(data, indices, rl, v):\n",
        "      \"\"\"Evaluates the matrix-vector product with a Ellpack R matrix\"\"\"\n",
        "\n",
        "      #array that stores the result values\n",
        "      result = np.zeros(shape = v.shape, dtype = np.float64)  \n",
        "\n",
        "      #perform calculations\n",
        "      for row in prange(len(data)):\n",
        "          tmp = 0\n",
        "          for ele in range(rl[row]):\n",
        "              tmp += int(data[row][ele]) * v[int(indices[row][ele])]\n",
        "          result[row] = tmp\n",
        "\n",
        "      return result"
      ],
      "execution_count": null,
      "outputs": []
    },
    {
      "cell_type": "markdown",
      "metadata": {
        "id": "2rl-x0xUBsEs"
      },
      "source": [
        "We will verify our code for a 1000 × 1000 sparse random matrix with the CRS definition and showing for 3 random vectors that the relative distance of the Ellpack-R matvec to the CRS matvec result is in the order of machine precision."
      ]
    },
    {
      "cell_type": "code",
      "metadata": {
        "id": "t9tVYjctC0rn",
        "colab": {
          "base_uri": "https://localhost:8080/"
        },
        "outputId": "3ede3fd6-303e-432b-9ac1-229681825d29"
      },
      "source": [
        "#Get the sparse matrix A for N = 100\n",
        "N = 100\n",
        "A, b = discretise_poisson(N)\n",
        "my_sparse_mat = EllpackMatrix(A) \n",
        "\n",
        "#iterate over three random vectors to calculate the relative error\n",
        "#between the ellpack r CPU and njitted crs CPU\n",
        "for i in range(3):\n",
        "  x = np.random.randn(my_sparse_mat.shape[1])    #create random array\n",
        "\n",
        "  #Perform SpMV in ellpackr format\n",
        "  y_ellpackr = my_sparse_mat @ x\n",
        "\n",
        "  #Perform SpMV in CRS format\n",
        "  y_csr = my_sparse_mat.njit_csr_matvec(A.data, A.indices, A.indptr, x)\n",
        "\n",
        "  #Calculate the error between CRS and Ellpack r\n",
        "  relative_distance = e_rel(y_ellpackr, y_csr)\n",
        "  print('The relative error for a sparse matrix of size', A.shape,\n",
        "        'and random vector', i + 1, 'is', np.mean(relative_distance))"
      ],
      "execution_count": null,
      "outputs": [
        {
          "output_type": "stream",
          "name": "stdout",
          "text": [
            "The relative error for a sparse matrix of size (10000, 10000) and random vector 1 is 0.0\n",
            "The relative error for a sparse matrix of size (10000, 10000) and random vector 2 is 0.0\n",
            "The relative error for a sparse matrix of size (10000, 10000) and random vector 3 is 0.0\n"
          ]
        }
      ]
    },
    {
      "cell_type": "markdown",
      "metadata": {
        "id": "sQwFmlsAL7hb"
      },
      "source": [
        "- The relative error for a sparse matrix of size (10000, 10000) and random vector 1 is 0.0\n",
        "- The relative error for a sparse matrix of size (10000, 10000) and random vector 2 is 0.0\n",
        "- The relative error for a sparse matrix of size (10000, 10000) and random vector 3 is 0.0\n",
        "\n",
        "\n",
        "From the results above it can be observed that the error is beyond machine precision. Now, we will benchmark our functions for matrices of different dimensions. "
      ]
    },
    {
      "cell_type": "code",
      "metadata": {
        "colab": {
          "base_uri": "https://localhost:8080/"
        },
        "id": "f1NvC1ERsqu5",
        "outputId": "801f1d84-d5f2-4012-b2e0-ab467f12d0b7"
      },
      "source": [
        "#array for the dimensions of our matrices\n",
        "n = np.array([10, 50, 100, 500, 750, 1000, 1250, 1500]) \n",
        "#array of the best times that ellpack r takes in the CPU\n",
        "ellpackr_time_cpu = np.zeros(len(n)) \n",
        "#array of the best times that njitted ellpack r takes in the CPU  \n",
        "njit_ellpackr_time_cpu = np.zeros(len(n)) \n",
        "#array of the best times that njitted CRS takes in the CPU\n",
        "njit_csr_time_cpu = np.zeros(len(n))      \n",
        "\n",
        "for i in range(len(n)):\n",
        "  A, b = discretise_poisson(n[i])     #create a matrix\n",
        "  my_sparse_mat = EllpackMatrix(A)    #create an object for each matrix\n",
        "  x = np.random.randn(my_sparse_mat.shape[1])   #create a random vector\n",
        "\n",
        "  #benchmark the ellpack r in the CPU\n",
        "  timeit_result_ellpack = %timeit  -o my_sparse_mat._matvec(x)\n",
        "  ellpackr_time_cpu[i] = timeit_result_ellpack.best\n",
        "\n",
        "  #benchmark the njitted CRS in the CPU\n",
        "  timeit_result_csr = %timeit  -o my_sparse_mat.njit_csr_matvec(A.data, \n",
        "                                                        A.indices, A.indptr, x)\n",
        "  njit_csr_time_cpu[i] = timeit_result_csr.best\n",
        "\n",
        "  #benchmark the njitted ellpack r in the CPU\n",
        "  timeit_result_csr = %timeit  -o my_sparse_mat.njit_ellpackr_matvec(my_sparse_mat.data_ell, \n",
        "                                my_sparse_mat.indices_ell, my_sparse_mat.rl, x)\n",
        "  njit_ellpackr_time_cpu[i] = timeit_result_csr.best"
      ],
      "execution_count": null,
      "outputs": [
        {
          "output_type": "stream",
          "name": "stdout",
          "text": [
            "1000 loops, best of 5: 665 µs per loop\n",
            "The slowest run took 157.48 times longer than the fastest. This could mean that an intermediate result is being cached.\n",
            "100000 loops, best of 5: 6.42 µs per loop\n",
            "The slowest run took 84251.43 times longer than the fastest. This could mean that an intermediate result is being cached.\n",
            "1 loop, best of 5: 8.53 µs per loop\n",
            "10 loops, best of 5: 20.9 ms per loop\n",
            "The slowest run took 44.72 times longer than the fastest. This could mean that an intermediate result is being cached.\n",
            "10000 loops, best of 5: 21.5 µs per loop\n",
            "The slowest run took 5.98 times longer than the fastest. This could mean that an intermediate result is being cached.\n",
            "10000 loops, best of 5: 21.5 µs per loop\n",
            "10 loops, best of 5: 89.1 ms per loop\n",
            "The slowest run took 15.50 times longer than the fastest. This could mean that an intermediate result is being cached.\n",
            "10000 loops, best of 5: 67.4 µs per loop\n",
            "10000 loops, best of 5: 59.1 µs per loop\n",
            "1 loop, best of 5: 2.29 s per loop\n",
            "1000 loops, best of 5: 1.64 ms per loop\n",
            "1000 loops, best of 5: 1.41 ms per loop\n",
            "1 loop, best of 5: 5.17 s per loop\n",
            "100 loops, best of 5: 3.54 ms per loop\n",
            "100 loops, best of 5: 3.16 ms per loop\n",
            "1 loop, best of 5: 9.15 s per loop\n",
            "100 loops, best of 5: 6.49 ms per loop\n",
            "100 loops, best of 5: 6.15 ms per loop\n",
            "1 loop, best of 5: 14.3 s per loop\n",
            "100 loops, best of 5: 10.3 ms per loop\n",
            "100 loops, best of 5: 9.97 ms per loop\n",
            "1 loop, best of 5: 20.6 s per loop\n",
            "100 loops, best of 5: 14.8 ms per loop\n",
            "100 loops, best of 5: 14.3 ms per loop\n"
          ]
        }
      ]
    },
    {
      "cell_type": "code",
      "metadata": {
        "id": "P2-RCt3xx2bc",
        "colab": {
          "base_uri": "https://localhost:8080/",
          "height": 350
        },
        "outputId": "abe47677-a8c5-453a-b2a8-f99e3a0a69cd"
      },
      "source": [
        "#Plot results\n",
        "fig, (ax1, ax2) = plt.subplots(1, 2, figsize =(16,5))\n",
        "ax1.plot(n**2, ellpackr_time_cpu, 'r', label = 'CPU Ellpack R time')\n",
        "ax1.plot(n**2, njit_ellpackr_time_cpu, 'b', label = 'CPU njit Ellpack R time')\n",
        "ax1.plot(n**2, njit_csr_time_cpu, 'g', label = 'CPU njit CRS time')\n",
        "\n",
        "ax2.plot(n**2, njit_ellpackr_time_cpu, 'b', label = 'CPU njit Ellpack R time')\n",
        "ax2.plot(n**2, njit_csr_time_cpu, 'g', label = 'CPU njit CRS time')\n",
        "\n",
        "#Set the labels, legends and title\n",
        "ax1.set_xlabel('Matrix dimensions')\n",
        "ax1.set_ylabel('Time [s]')\n",
        "ax1.set_title('SpMV performance')\n",
        "ax1.legend()\n",
        "\n",
        "ax2.set_xlabel('Matrix dimensions')\n",
        "ax2.set_ylabel('Time [s]')\n",
        "ax2.set_title('SpMV performance')\n",
        "ax2.legend()\n",
        "\n",
        "#Show results\n",
        "plt.show()"
      ],
      "execution_count": null,
      "outputs": [
        {
          "output_type": "display_data",
          "data": {
            "image/png": "[encoded data removed]",
            "text/plain": [
              "<Figure size 1152x360 with 2 Axes>"
            ]
          },
          "metadata": {
            "needs_background": "light"
          }
        }
      ]
    },
    {
      "cell_type": "markdown",
      "metadata": {
        "id": "uRSwKuGZIG0d"
      },
      "source": [
        "From the first graph, it can be observed that the Ellpack R performs the worst compared to the njitted versions of CSR and ELLR. However, the second graph shows that the njitted Ellpack R and CSR performs similarly, with the njitted CRS format performing slightly better for all dimensions."
      ]
    },
    {
      "cell_type": "markdown",
      "metadata": {
        "id": "AtapNBahQN4K"
      },
      "source": [
        "##**GPU implementation**"
      ]
    },
    {
      "cell_type": "markdown",
      "metadata": {
        "id": "67-SbQvlJyYp"
      },
      "source": [
        "We will briefly describe some of the key aspects of GPU programming. GPU's have many processors (multiprocessor) that execute in parallel a kernel called from the CPU on different data. Threads are grouped into blocks which share memory from the multiprocessor (global and shared memory), and blocks are further grouped into grids [2]. To obtain the best performance, it is important to take into account the following aspects: \n",
        "- guarantee coalesced access to global memory\n",
        "- use shared memory as much as possible\n",
        "- replace global memory accesses with shared memory accesses (if possible)\n",
        "\n",
        "Now, we will define our kernel. In the CPU version for the Ellpack R format, the maximum number of columns is the maximum number of non-zero elements for the whole matrix. However, in our GPU implementation we change that so that each row has the same number of elements as a thread block. Then we flatten it, so that we input a 1D array to the kernel to perform the multiplication. "
      ]
    },
    {
      "cell_type": "code",
      "metadata": {
        "id": "NTqyuqUErEC9"
      },
      "source": [
        "#Define the kernel\n",
        "TPB = 64   #threadsperblock\n",
        "@cuda.jit()\n",
        "def kernel_matvec(data, indices, rl, v, result):\n",
        "\n",
        "    #Define array in the shared memory\n",
        "    local_data = cuda.shared.array(shape = TPB, dtype = float64)\n",
        "    local_indices = cuda.shared.array(shape = TPB, dtype = int64)\n",
        "\n",
        "    x = cuda.grid(1)         #global position\n",
        "    tx = cuda.threadIdx.x    #thread id\n",
        "    bidx = cuda.blockIdx.x   #block position\n",
        "    bdim = cuda.blockDim.x   #block width \n",
        "    index = cuda.blockIdx.x * cuda.blockDim.x\n",
        "\n",
        "    #global position is within the dimension of our data\n",
        "    if x < data.shape[0]:\n",
        "      tmp = 0.\n",
        "      \n",
        "      if index + rl[bidx] > tx:\n",
        "        #store data in shared memory\n",
        "        local_data[tx] = data[index + tx]\n",
        "        local_indices[tx] = indices[index + tx]\n",
        "\n",
        "        cuda.syncthreads()\n",
        "\n",
        "      #perform calculations\n",
        "      for tx in range(rl[bidx]):\n",
        "        tmp += local_data[tx] * v[local_indices[tx]]\n",
        "\n",
        "      cuda.syncthreads()\n",
        "\n",
        "    #append result\n",
        "    result[bidx] = tmp"
      ],
      "execution_count": null,
      "outputs": []
    },
    {
      "cell_type": "code",
      "metadata": {
        "id": "3F-NPX56qX_F"
      },
      "source": [
        "#Define the class\n",
        "class EllpackMatrix(LinearOperator):\n",
        "    def __init__(self, csr_mat):\n",
        "        #get the data from the csr matrix \n",
        "        data_csr = csr_mat.data\n",
        "        indices_csr = csr_mat.indices\n",
        "        pointer_csr = csr_mat.indptr\n",
        "\n",
        "        M = len(pointer_csr)-1   #total number of rows \n",
        "\n",
        "        self.TPB = 64   #threads per block\n",
        "        self.blockspergrid = M   #blocks per grid\n",
        "\n",
        "        self.shape = (M, M)   #shape\n",
        "        self.dtype = None  #type\n",
        "        #array to store the actual length of each row\n",
        "\n",
        "        rl = np.zeros(shape = M, dtype = np.int64) \n",
        "\n",
        "        for i in range(1, len(pointer_csr)):\n",
        "            rl[i-1] = int(pointer_csr[i] - pointer_csr[i-1])\n",
        "\n",
        "        #padding the rows with zeros so that each calculation \n",
        "        #is acted on by a block of threads\n",
        "        indices_ell = np.zeros((M, self.TPB), dtype = np.int64)   \n",
        "        data_ell = np.zeros((M, self.TPB), dtype = np.float64)  \n",
        "        \n",
        "        #append results\n",
        "        count = 0\n",
        "        for row in range(M):\n",
        "            for ele in range(rl[row]):\n",
        "                data_ell[row][ele] = int(data_csr[count])\n",
        "                indices_ell[row][ele] = indices_csr[count]\n",
        "                count += 1\n",
        "\n",
        "        #send 1D data to device\n",
        "        self.dev_data = cuda.to_device(np.ravel(data_ell))\n",
        "        self.dev_indices = cuda.to_device(np.ravel(indices_ell))\n",
        "        self.dev_rl = cuda.to_device(rl)\n",
        "        result = np.zeros(M)\n",
        "        self.dev_result = cuda.to_device(result)\n",
        "\n",
        "    def _matvec(self, v):\n",
        "      \"\"\"Evaluates the matrix-vector product with a Ellpack R matrix\"\"\"\n",
        "      #send array to device\n",
        "      dev_v = cuda.to_device((v))\n",
        "      #call the kernel\n",
        "      kernel_matvec[self.blockspergrid, self.TPB](self.dev_data, \n",
        "                        self.dev_indices, self.dev_rl, dev_v, self.dev_result)\n",
        "\n",
        "    @staticmethod\n",
        "    @njit(parallel = True)\n",
        "    def njit_csr_matvec(data, indices, pointer, v):\n",
        "      \"\"\"Evaluates the matrix-vector product with a CSR matrix\"\"\"\n",
        "\n",
        "      result = np.zeros(shape = v.shape[0], dtype = np.float64) \n",
        "      \n",
        "      #perform calculations\n",
        "      for row_index in prange(v.shape[0]):\n",
        "          col_start = pointer[row_index]\n",
        "          col_end = pointer[row_index + 1]\n",
        "          for col_index in range(col_start, col_end):\n",
        "              result[row_index] += data[col_index] * v[indices[col_index]]\n",
        "\n",
        "      return result"
      ],
      "execution_count": null,
      "outputs": []
    },
    {
      "cell_type": "markdown",
      "metadata": {
        "id": "Tig48NnNRCsa"
      },
      "source": [
        "We will verify our code for a 1000 × 1000 sparse random matrix with the CSR definition and showing for 3 random vectors that the relative distance of the Ellpack-R matvec to the CSR matvec result is in the order of machine precision."
      ]
    },
    {
      "cell_type": "code",
      "metadata": {
        "colab": {
          "base_uri": "https://localhost:8080/"
        },
        "id": "9DXdGs_y8l39",
        "outputId": "7e6fc8c4-f774-4aec-b02e-c142095ab6bb"
      },
      "source": [
        "#Get the sparse matrix A for N = 100\n",
        "N = 100\n",
        "A, b = discretise_poisson(N)\n",
        "my_sparse_mat = EllpackMatrix(A)\n",
        "\n",
        "#iterate over three random vectors to calculate the relative error\n",
        "#between the ellpack r GPU and njitted crs CPU\n",
        "for i in range(3):\n",
        "  x = np.random.randn(my_sparse_mat.shape[1])\n",
        "\n",
        "  #Perform SpMV in ellpackr format in the GPU\n",
        "  my_sparse_mat @ x\n",
        "  ary = np.empty(shape = my_sparse_mat.shape[0],\n",
        "                 dtype = my_sparse_mat.dev_result.dtype)\n",
        "  my_sparse_mat.dev_result.copy_to_host(ary)  #call result to the device\n",
        "  dev_result = ary\n",
        "\n",
        "  #Perform SpMV in CRS format in the CPU\n",
        "  y_csr = my_sparse_mat.njit_csr_matvec(A.data, A.indices, A.indptr, x)\n",
        "\n",
        "  #Calculate the relative error\n",
        "  relative_distance = e_rel(dev_result, y_csr)\n",
        "\n",
        "  print('The relative error for a sparse matrix of size', A.shape,\n",
        "        'and random vector',i + 1, 'is', np.mean(relative_distance))"
      ],
      "execution_count": null,
      "outputs": [
        {
          "output_type": "stream",
          "name": "stdout",
          "text": [
            "The relative error for a sparse matrix of size (10000, 10000) and random vector 1 is 1.672604893197956e-16\n",
            "The relative error for a sparse matrix of size (10000, 10000) and random vector 2 is 2.699765051156537e-16\n",
            "The relative error for a sparse matrix of size (10000, 10000) and random vector 3 is 1.686602311585923e-16\n"
          ]
        }
      ]
    },
    {
      "cell_type": "markdown",
      "metadata": {
        "id": "hi9Ue0yI7U6_"
      },
      "source": [
        "- The relative error for a sparse matrix of size (10000, 10000) and random vector 1 is 1.672604893197956e-16\n",
        "- The relative error for a sparse matrix of size (10000, 10000) and random vector 2 is 2.699765051156537e-16\n",
        "- The relative error for a sparse matrix of size (10000, 10000) and random vector 3 is 1.686602311585923e-16\n",
        "\n",
        "\n",
        "From the results above it can be observed that the error is deu to machine precision. Now, we will benchmark our functions for matrices of different dimensions. "
      ]
    },
    {
      "cell_type": "code",
      "metadata": {
        "id": "u1LncgoFvIdU",
        "colab": {
          "base_uri": "https://localhost:8080/"
        },
        "outputId": "a7c442e2-1165-4659-9502-b96874fad556"
      },
      "source": [
        "#array for the dimensions of our matrices\n",
        "n = np.array([10, 50, 100, 500, 750, 1000, 1250, 1500]) \n",
        "#array of the best times that numpy function takes\n",
        "ellpackr_time_gpu = np.zeros(len(n))      \n",
        "\n",
        "for i in range(len(n)):\n",
        "  A, b = discretise_poisson(n[i])   #generate the matrices\n",
        "  my_sparse_mat = EllpackMatrix(A)  #create an object\n",
        "  x = np.random.randn(my_sparse_mat.shape[1])   #generate random array\n",
        "\n",
        "  #benchmark SpMV in the ellpack r format in the GPU\n",
        "  timeit_result_ellpack = %timeit  -o my_sparse_mat @ x\n",
        "  ellpackr_time_gpu[i] = timeit_result_ellpack.best\n"
      ],
      "execution_count": null,
      "outputs": [
        {
          "output_type": "stream",
          "name": "stdout",
          "text": [
            "1000 loops, best of 5: 852 µs per loop\n",
            "1000 loops, best of 5: 848 µs per loop\n",
            "1000 loops, best of 5: 848 µs per loop\n",
            "1000 loops, best of 5: 1.79 ms per loop\n",
            "100 loops, best of 5: 3.39 ms per loop\n",
            "100 loops, best of 5: 5.54 ms per loop\n",
            "100 loops, best of 5: 8.28 ms per loop\n",
            "100 loops, best of 5: 11.8 ms per loop\n"
          ]
        }
      ]
    },
    {
      "cell_type": "code",
      "metadata": {
        "id": "ADLJgtbM7ZcU",
        "colab": {
          "base_uri": "https://localhost:8080/",
          "height": 404
        },
        "outputId": "da4693a8-feab-46ec-9cc3-c663065f92b7"
      },
      "source": [
        "#Plot the best times against the number of dimensions\n",
        "plt.figure(figsize =(10,6))\n",
        "plt.plot(n**2, njit_ellpackr_time_cpu, label = 'njit Ellpack R time CPU')\n",
        "plt.plot(n**2, njit_csr_time_cpu, label = 'njit CSR time CPU')\n",
        "plt.plot(n**2, ellpackr_time_gpu, label = 'Ellpack R time GPU')\n",
        "\n",
        "#Set the legend, labels and title\n",
        "plt.title(\"SpMV performance\")\n",
        "plt.xlabel(\"Dimensions\")\n",
        "plt.ylabel(\"Time [s]\")\n",
        "plt.legend()\n",
        "\n",
        "#Plot results\n",
        "plt.show()"
      ],
      "execution_count": null,
      "outputs": [
        {
          "output_type": "display_data",
          "data": {
            "image/png": "[encoded data removed]",
            "text/plain": [
              "<Figure size 720x432 with 1 Axes>"
            ]
          },
          "metadata": {
            "needs_background": "light"
          }
        }
      ]
    },
    {
      "cell_type": "markdown",
      "metadata": {
        "id": "jlznQWeRTGR1"
      },
      "source": [
        "From the graph above, it can be observed that SpMV with Ellpack R in the GPU performs better than the njitted version of CRS and Ellpack R for higher dimensions. Particularly, our GPU implementation starts performing better for dimensions above 750000. One of the reasons why Ellpack R on the GPU does not perform better for lower dimensions could be due to padding the rows with zeros so that each calculation is acted on by a block of threads. Although this is a ncessary step to ensure coalesced global memory access, it is also decreasing performance due to storing unnecesary elements. "
      ]
    },
    {
      "cell_type": "markdown",
      "metadata": {
        "id": "lY_C4dPXKRw4"
      },
      "source": [
        "## **Matrix testing**"
      ]
    },
    {
      "cell_type": "markdown",
      "metadata": {
        "id": "pyhvs6J66bah"
      },
      "source": [
        "In the following section, we will evaluate our code for three matrices obtained from the Matrix Market. The information for the matrices are presented in the following table:"
      ]
    },
    {
      "cell_type": "markdown",
      "metadata": {
        "id": "crOnsdA3huDL"
      },
      "source": [
        "Matrix | Name | Description | Size | Type | Bytes in CRS | Bytes in Ellpack R\n",
        "--- | --- | --- | --- | --- | --- | ---\n",
        "1 | JPWH 991 | Circuit physics modeling | 991 x 991, 6027 entries | real unsymmetric | 21387 | 24444\n",
        "2 | CONF5.0-00L4X4-1000 | Quantum Chromodynamics | 3072 x 3072, 119808 entries | matrix coordinate complex general | 972988 | -\n",
        "3 | GRE 115 | Simulation of computer systems | 115 x 115, 421 entries | real unsymmetric | 1916 | 15132\n",
        "\n"
      ]
    },
    {
      "cell_type": "markdown",
      "metadata": {
        "id": "xJuPvxP-nEUa"
      },
      "source": [
        "From the table above, it can be observed that when we store our matrices in Ellpack R format, it requires more space than in CSR. This is due to the zero-padding that we performed previous to the SpMV operation. Given the dimensions of the matrices, we expect that the CSR in the CPU performs better than the Ellpack R in the GPU. \n",
        "\n",
        "The space that the Ellpack R requires has been calculated using the following formula:\n",
        "\n",
        "$ELLR = (2 \\times (N_{max} \\times N')\\times 8bytes +(N_{max}\\times N' + N)\\times 4 bytes)$"
      ]
    },
    {
      "cell_type": "code",
      "metadata": {
        "id": "59FSUQu-OSE_"
      },
      "source": [
        "#load the matrices and store them in CRS format\n",
        "matrix1 = scipy.io.mmread('/content/matrix1.mtx')\n",
        "matrix2 = scipy.io.mmread('/content/matrix1.mtx')\n",
        "matrix3 = scipy.io.mmread('/content/matrix1.mtx')\n",
        "\n",
        "matrix1 = csr_matrix(matrix1)\n",
        "matrix2 = csr_matrix(matrix2)\n",
        "matrix3 = csr_matrix(matrix3)\n",
        "\n",
        "matrices = [matrix1, matrix2, matrix3]"
      ],
      "execution_count": null,
      "outputs": []
    },
    {
      "cell_type": "code",
      "metadata": {
        "colab": {
          "base_uri": "https://localhost:8080/"
        },
        "id": "tZT-715ItP-L",
        "outputId": "e0de2336-74a3-4d9f-c995-b7216efb1174"
      },
      "source": [
        "#iterate over all the matrices to calculate the relative error\n",
        "#between the ellpack r GPU and njitted crs CPU\n",
        "\n",
        "for i in range(len(matrices)):\n",
        "  my_sparse_mat = EllpackMatrix(matrices[i])  #create an object for each matrix\n",
        "  x = np.random.randn(my_sparse_mat.shape[1])   #create random array\n",
        "\n",
        "  my_sparse_mat @ x  #SpMV with ellpack r GPU\n",
        "\n",
        "  #call the result from the kernel to the host\n",
        "  ary = np.empty(shape = my_sparse_mat.shape[0], \n",
        "                 dtype = my_sparse_mat.dev_result.dtype)\n",
        "  my_sparse_mat.dev_result.copy_to_host(ary)\n",
        "  dev_result = ary  \n",
        "\n",
        "  #SpMV with njitted crs CPU\n",
        "  y_csr = my_sparse_mat.njit_csr_matvec(matrices[i].data, matrices[i].indices, \n",
        "                                        matrices[i].indptr, x)\n",
        "\n",
        "  #calculate the error\n",
        "  relative_distance = e_rel(dev_result, y_csr)\n",
        "\n",
        "  print('The mean relative error for random vector',i, 'is', \n",
        "        np.mean(relative_distance),)"
      ],
      "execution_count": null,
      "outputs": [
        {
          "output_type": "stream",
          "name": "stdout",
          "text": [
            "The mean relative error for random vector 0 is 3.190203192378855e-17 .\n",
            "The mean relative error for random vector 1 is 6.083056153586919e-16 .\n",
            "The mean relative error for random vector 2 is 9.141601210345653e-17 .\n"
          ]
        }
      ]
    },
    {
      "cell_type": "markdown",
      "metadata": {
        "id": "FUi4Ie02p6hc"
      },
      "source": [
        "The error is in the order of machine precision. Now we will evaluate how fast our Ellpack R GPU is compared to the njitted CRS SpMV. "
      ]
    },
    {
      "cell_type": "code",
      "metadata": {
        "colab": {
          "base_uri": "https://localhost:8080/"
        },
        "id": "iVg9pNGz0Xg_",
        "outputId": "78d649ed-f122-4343-eb0e-9679ba29ffdf"
      },
      "source": [
        "#array storing the best times for gpu ellpack r\n",
        "ellpackr_time_gpu = np.zeros(len(matrices))\n",
        "#array storing the best times for cpu njitted crs\n",
        "csr_njitted_time_cpu = np.zeros(len(matrices))  \n",
        "\n",
        "for i in range(len(matrices)):\n",
        "\n",
        "  my_sparse_mat = EllpackMatrix(matrices[i])   #create an object for each matrix\n",
        "  x = np.random.randn(my_sparse_mat.shape[1])  #create random array\n",
        "\n",
        "  #benchmark the ellpack r GPU\n",
        "  timeit_result_ellpack_gpu = %timeit  -o my_sparse_mat @ x\n",
        "  ellpackr_time_gpu[i] = timeit_result_ellpack_gpu.best\n",
        " \n",
        "  #benchmark the njitted crs CPU\n",
        "  timeit_result_ellpack_cpu = %timeit  -o my_sparse_mat.njit_csr_matvec(matrices[i].data, \n",
        "                                    matrices[i].indices, matrices[i].indptr, x)\n",
        "  csr_njitted_time_cpu[i] = timeit_result_ellpack_cpu.best"
      ],
      "execution_count": null,
      "outputs": [
        {
          "output_type": "stream",
          "name": "stdout",
          "text": [
            "1000 loops, best of 5: 862 µs per loop\n",
            "The slowest run took 7.06 times longer than the fastest. This could mean that an intermediate result is being cached.\n",
            "100000 loops, best of 5: 14.8 µs per loop\n",
            "1000 loops, best of 5: 841 µs per loop\n",
            "The slowest run took 7.06 times longer than the fastest. This could mean that an intermediate result is being cached.\n",
            "100000 loops, best of 5: 14.6 µs per loop\n",
            "1000 loops, best of 5: 847 µs per loop\n",
            "The slowest run took 72.67 times longer than the fastest. This could mean that an intermediate result is being cached.\n",
            "100000 loops, best of 5: 14.4 µs per loop\n"
          ]
        }
      ]
    },
    {
      "cell_type": "code",
      "metadata": {
        "id": "RIS74uR71USn",
        "colab": {
          "base_uri": "https://localhost:8080/"
        },
        "outputId": "e3ca1e94-24db-4b6f-d365-4850731020da"
      },
      "source": [
        "ratio =  ellpackr_time_gpu / csr_njitted_time_cpu\n",
        "\n",
        "for i in range(len(matrices)):\n",
        "  print('SpMV using njitted CRS format in the CPU is', ratio[i], \n",
        "        'faster than Ellpack R in GPU.')"
      ],
      "execution_count": null,
      "outputs": [
        {
          "output_type": "stream",
          "name": "stdout",
          "text": [
            "SpMV using njitted CRS format in the CPU is 58.193408141934924 faster than Ellpack R in GPU.\n",
            "SpMV using njitted CRS format in the CPU is 57.78133809025549 faster than Ellpack R in GPU.\n",
            "SpMV using njitted CRS format in the CPU is 58.68481540314007 faster than Ellpack R in GPU.\n"
          ]
        }
      ]
    },
    {
      "cell_type": "markdown",
      "metadata": {
        "id": "fX1bjlapUQjL"
      },
      "source": [
        "- SpMV using njitted CRS format in the CPU is 58.193408141934924 faster than Ellpack R in GPU.\n",
        "- SpMV using njitted CRS format in the CPU is 57.78133809025549 faster than Ellpack R in GPU.\n",
        "- SpMV using njitted CRS format in the CPU is 58.68481540314007 faster than Ellpack R in GPU.\n",
        "\n",
        "Effectively, the njitted CSR format performs better, approximately 60 times faster than the Ellpack R in the GPU for all our matrices. This is again due to the low dimensionality of our matrices. However, one way to overcome the zero-padding problem is by using Sliced ELLR-T. By cutting the matrix into slices, this storing format significantly reduces the amount of memory required for storage (down to about one third) and it is nearly as effective as the CSR format for lower dimensions."
      ]
    },
    {
      "cell_type": "markdown",
      "metadata": {
        "id": "o01vYMggFpMZ"
      },
      "source": [
        "## **Conclusions**"
      ]
    },
    {
      "cell_type": "markdown",
      "metadata": {
        "id": "fINoCTDFGQ3_"
      },
      "source": [
        "- In the CSR format, data access locality is not maintained and parallelism of loops is not totally exploited. Ellpack R overcome these challenges, but does not fully overcome the CSR format, as the padding with zero elements requires more space, and hence more time. \n",
        "- For dimensions lower to 750.000, the njitted CSR format in the CPU performed the best. For dimensions above 750.000, the Ellpack R in the GPU performed the best. \n",
        "- Padding the rows with zeros so that each calculation is acted on by a block of threads in the Ellpack-R format ensures coalesced global memory access. However, it decreases performance due to storing unnecesary elements. \n",
        "- This issue could be overcome by using Sliced ELLR-T, which significantly reduces the amount of memory required for storage. "
      ]
    },
    {
      "cell_type": "markdown",
      "metadata": {
        "id": "WnEzZtWxBl3d"
      },
      "source": [
        "## **References**"
      ]
    },
    {
      "cell_type": "markdown",
      "metadata": {
        "id": "AktGlHWHBqBr"
      },
      "source": [
        "[1] Dziekonski, Adam, Adam Lamecki and Michał Mrozowski. “A Memory Efficient and Fast Sparse Matrix Vector Product on a GPU.” Progress in Electromagnetics Research-pier 116 (2011): 49-63.\n",
        "\n",
        "[2] F. Vázquez, G. Ortega, J. J. Fernández and E. M. Garzón, \"Improving the Performance of the Sparse Matrix Vector Product with GPUs,\" 2010 10th IEEE International Conference on Computer and Information Technology, 2010, pp. 1146-1151, doi: 10.1109/CIT.2010.208.\n"
      ]
    }
  ]
}